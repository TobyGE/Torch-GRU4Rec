{
 "cells": [
  {
   "cell_type": "markdown",
   "metadata": {},
   "source": [
    "<font size=\"5\">\n",
    "Data Preprocessing\n",
    "</font>"
   ]
  },
  {
   "cell_type": "code",
   "execution_count": 1,
   "metadata": {},
   "outputs": [
    {
     "name": "stdout",
     "output_type": "stream",
     "text": [
      "Test set\n",
      "\tEvents: 71222\n",
      "\tSessions: 15324\n",
      "\tItems: 6751\n",
      "Train set\n",
      "\tEvents: 31579006\n",
      "\tSessions: 7953885\n",
      "\tItems: 37483\n",
      "Validation set\n",
      "\tEvents: 58233\n",
      "\tSessions: 12372\n",
      "\tItems: 6359\n"
     ]
    }
   ],
   "source": [
    "import Preprocess\n",
    "PATH_TO_ORIGINAL_DATA = 'Data/'\n",
    "PATH_TO_PROCESSED_DATA = 'Data/Cleaned'\n",
    "N = 1\n",
    "Preprocess.cleanData(PATH_TO_ORIGINAL_DATA, PATH_TO_PROCESSED_DATA, N)"
   ]
  },
  {
   "cell_type": "markdown",
   "metadata": {},
   "source": [
    "<font size=\"5\">\n",
    "Load Data\n",
    "</font>"
   ]
  },
  {
   "cell_type": "code",
   "execution_count": 2,
   "metadata": {},
   "outputs": [
    {
     "name": "stdout",
     "output_type": "stream",
     "text": [
      "Loading data from Data/Cleaned/rsc15Train.csv\n",
      "Loading data from Data/Cleaned/rsc15Valid.csv\n"
     ]
    }
   ],
   "source": [
    "import os\n",
    "import sys\n",
    "import torch\n",
    "from Modules import Tools, Dataset\n",
    "\n",
    "if not sys.warnoptions:\n",
    "    import warnings\n",
    "    warnings.simplefilter(\"ignore\")\n",
    "\n",
    "dataFolder = 'Data/Cleaned/'\n",
    "trainDataFile = 'rsc15Train.csv'\n",
    "validDataFile = 'rsc15Valid.csv'\n",
    "\n",
    "sessionKey = 'SessionId';\n",
    "itemKey = 'ItemId';\n",
    "timeKey = 'Time';\n",
    "\n",
    "trainPath = os.path.join(dataFolder, trainDataFile)\n",
    "validPath = os.path.join(dataFolder, validDataFile)\n",
    "\n",
    "trainDataSet = Dataset.Dataset(trainPath, sessionKey=sessionKey, itemKey=itemKey, timeKey=timeKey)\n",
    "validDataSet = Dataset.Dataset(validPath, sessionKey=sessionKey, itemKey=itemKey, timeKey=timeKey,\n",
    "                                   itemMap=trainDataSet.itemMap)"
   ]
  },
  {
   "cell_type": "markdown",
   "metadata": {},
   "source": [
    "<font size=\"5\">\n",
    "Model Parameters\n",
    "</font>\n",
    "<font size=\"2\">\n",
    "See Model Parameters In README.md For More Details\n",
    "</font>"
   ]
  },
  {
   "cell_type": "code",
   "execution_count": 5,
   "metadata": {},
   "outputs": [],
   "source": [
    "inputSize = trainDataSet.nItems \n",
    "outputSize = inputSize \n",
    "hiddenSize = 100   \n",
    "nLayers = 1 \n",
    "batchSize = 32 \n",
    "negative = True \n",
    "embeddingDim = -1 #\n",
    "dropoutHidden = 0.0\n",
    "dropoutEmbed = 0.0\n",
    "sigma = 0.0\n",
    "initAsNormal = False\n",
    "cuda = torch.cuda.is_available() \n",
    "\n",
    "finalAct = 'elu-1'\n",
    "lossType = 'bpr-max'\n",
    "optimizerType = 'adagrad'\n",
    "lr = 0.1\n",
    "weightDecay = 0.0\n",
    "momentum = 0.0\n",
    "bpreg = 1.0\n",
    "nEpochs = 10\n",
    "\n",
    "timeSort = True\n",
    "trainRandomOrder=False\n",
    "sampleAlpha=0.75\n",
    "trainNSample = 2048 \n",
    "validNSample = 0\n",
    "sampleStore = 10000000\n",
    "topN = 20\n",
    "\n",
    "resultDir = 'Results'"
   ]
  },
  {
   "cell_type": "markdown",
   "metadata": {},
   "source": [
    "# BPR-max, no embedding "
   ]
  },
  {
   "cell_type": "code",
   "execution_count": 4,
   "metadata": {
    "scrolled": false
   },
   "outputs": [
    {
     "name": "stdout",
     "output_type": "stream",
     "text": [
      "Result Folder:Results\\02-April;23.45\n",
      "#### START TRAINING....\n",
      "Start Epoch # 0\n"
     ]
    },
    {
     "name": "stderr",
     "output_type": "stream",
     "text": [
      "738302it [3:16:42, 62.55it/s]                                                                     \n",
      "1447it [00:08, 172.85it/s]                                                                        \n"
     ]
    },
    {
     "name": "stdout",
     "output_type": "stream",
     "text": [
      "Epoch: 0, train loss: 0.2518, validloss: 0.7673, recall: 0.7109, mrr: 0.3070, time: 11811.03632736206\n",
      "Save model as Results\\02-April;23.45\\model_00000.pt\n",
      "Start Epoch # 1\n"
     ]
    },
    {
     "name": "stderr",
     "output_type": "stream",
     "text": [
      "738302it [3:17:52, 62.18it/s]                                                                     \n",
      "1447it [00:08, 172.41it/s]                                                                        \n"
     ]
    },
    {
     "name": "stdout",
     "output_type": "stream",
     "text": [
      "Epoch: 1, train loss: 0.2422, validloss: 0.7747, recall: 0.7126, mrr: 0.3109, time: 11881.158915519714\n",
      "Save model as Results\\02-April;23.45\\model_00001.pt\n",
      "Start Epoch # 2\n"
     ]
    },
    {
     "name": "stderr",
     "output_type": "stream",
     "text": [
      "738302it [3:18:14, 62.07it/s]                                                                     \n",
      "1447it [00:08, 172.56it/s]                                                                        \n"
     ]
    },
    {
     "name": "stdout",
     "output_type": "stream",
     "text": [
      "Epoch: 2, train loss: 0.2407, validloss: 0.7794, recall: 0.7126, mrr: 0.3139, time: 11903.030463218689\n",
      "Save model as Results\\02-April;23.45\\model_00002.pt\n",
      "Start Epoch # 3\n"
     ]
    },
    {
     "name": "stderr",
     "output_type": "stream",
     "text": [
      "738302it [3:18:03, 62.13it/s]                                                                     \n",
      "1447it [00:08, 171.13it/s]                                                                        \n"
     ]
    },
    {
     "name": "stdout",
     "output_type": "stream",
     "text": [
      "Epoch: 3, train loss: 0.2399, validloss: 0.7824, recall: 0.7133, mrr: 0.3141, time: 11891.884214639664\n",
      "Save model as Results\\02-April;23.45\\model_00003.pt\n",
      "Start Epoch # 4\n"
     ]
    },
    {
     "name": "stderr",
     "output_type": "stream",
     "text": [
      "738302it [3:17:09, 62.41it/s]                                                                     \n",
      "1447it [00:08, 166.63it/s]                                                                        \n"
     ]
    },
    {
     "name": "stdout",
     "output_type": "stream",
     "text": [
      "Epoch: 4, train loss: 0.2395, validloss: 0.7840, recall: 0.7141, mrr: 0.3146, time: 11838.004606962204\n",
      "Save model as Results\\02-April;23.45\\model_00004.pt\n",
      "Start Epoch # 5\n"
     ]
    },
    {
     "name": "stderr",
     "output_type": "stream",
     "text": [
      "738302it [3:16:42, 62.55it/s]                                                                     \n",
      "1447it [00:08, 170.79it/s]                                                                        \n"
     ]
    },
    {
     "name": "stdout",
     "output_type": "stream",
     "text": [
      "Epoch: 5, train loss: 0.2392, validloss: 0.7864, recall: 0.7135, mrr: 0.3139, time: 11811.51358628273\n",
      "Save model as Results\\02-April;23.45\\model_00005.pt\n",
      "Start Epoch # 6\n"
     ]
    },
    {
     "name": "stderr",
     "output_type": "stream",
     "text": [
      "738302it [3:17:58, 64.17it/s]                                                                     \n",
      "1447it [00:08, 173.76it/s]                                                                        \n"
     ]
    },
    {
     "name": "stdout",
     "output_type": "stream",
     "text": [
      "Epoch: 6, train loss: 0.2390, validloss: 0.7879, recall: 0.7118, mrr: 0.3145, time: 11886.426786899567\n",
      "Save model as Results\\02-April;23.45\\model_00006.pt\n",
      "Start Epoch # 7\n"
     ]
    },
    {
     "name": "stderr",
     "output_type": "stream",
     "text": [
      "738302it [3:21:19, 61.12it/s]                                                                     \n",
      "1447it [00:08, 173.03it/s]                                                                        \n"
     ]
    },
    {
     "name": "stdout",
     "output_type": "stream",
     "text": [
      "Epoch: 7, train loss: 0.2388, validloss: 0.7888, recall: 0.7117, mrr: 0.3135, time: 12087.575729608536\n",
      "Save model as Results\\02-April;23.45\\model_00007.pt\n",
      "Start Epoch # 8\n"
     ]
    },
    {
     "name": "stderr",
     "output_type": "stream",
     "text": [
      "738302it [3:23:02, 62.51it/s]                                                                     \n",
      "1447it [00:08, 174.53it/s]                                                                        \n"
     ]
    },
    {
     "name": "stdout",
     "output_type": "stream",
     "text": [
      "Epoch: 8, train loss: 0.2387, validloss: 0.7902, recall: 0.7102, mrr: 0.3138, time: 12190.902706623077\n",
      "Save model as Results\\02-April;23.45\\model_00008.pt\n",
      "Start Epoch # 9\n"
     ]
    },
    {
     "name": "stderr",
     "output_type": "stream",
     "text": [
      "738302it [3:23:02, 62.02it/s]                                                                     \n",
      "1447it [00:08, 174.59it/s]                                                                        \n"
     ]
    },
    {
     "name": "stdout",
     "output_type": "stream",
     "text": [
      "Epoch: 9, train loss: 0.2386, validloss: 0.7910, recall: 0.7114, mrr: 0.3131, time: 12190.804177761078\n",
      "Save model as Results\\02-April;23.45\\model_00009.pt\n"
     ]
    }
   ],
   "source": [
    "finalAct = 'elu-0.5'\n",
    "lossType = 'bprmax'\n",
    "optimizerType = 'adagrad'\n",
    "hiddenSize = 100\n",
    "nEpochs = 10\n",
    "batchSize = 32\n",
    "dropoutHidden = 0.0\n",
    "dropoutEmbed = 0.0\n",
    "lr = 0.2\n",
    "trainNSample = 2048\n",
    "sampleAlpha=0.0\n",
    "bpreg = 1.0\n",
    "timeSort = False\n",
    "embeddingDim = -1\n",
    "\n",
    "Tools.fitAndEvalute(trainDataSet, validDataSet, resultDir, inputSize, outputSize, \n",
    "                    lossType, finalAct, nLayers,hiddenSize, nEpochs, batchSize, negative, \n",
    "                    dropoutHidden, dropoutEmbed, lr, momentum,weightDecay,embeddingDim,\n",
    "                    trainNSample, validNSample, sampleAlpha, optimizerType, bpreg, sigma,\n",
    "                    initAsNormal,trainRandomOrder, timeSort, topN, sessionKey, itemKey, timeKey, cuda)"
   ]
  },
  {
   "cell_type": "markdown",
   "metadata": {},
   "source": [
    "# BPR-max,embedding "
   ]
  },
  {
   "cell_type": "code",
   "execution_count": null,
   "metadata": {
    "scrolled": false
   },
   "outputs": [
    {
     "name": "stdout",
     "output_type": "stream",
     "text": [
      "Result Folder:Results\\04-April;08.56\n",
      "#### START TRAINING....\n",
      "Start Epoch # 0\n"
     ]
    },
    {
     "name": "stderr",
     "output_type": "stream",
     "text": [
      "738298it [2:21:32, 86.93it/s]                                                                     \n",
      "1486it [00:07, 197.53it/s]                                                                        \n"
     ]
    },
    {
     "name": "stdout",
     "output_type": "stream",
     "text": [
      "Epoch: 0, train loss: 0.2261, validloss: 0.7578, recall: 0.7144, mrr: 0.3092, time: 8500.357045650482\n",
      "Save model as Results\\04-April;08.56\\model_00000.pt\n",
      "Start Epoch # 1\n"
     ]
    },
    {
     "name": "stderr",
     "output_type": "stream",
     "text": [
      "738298it [2:20:11, 87.77it/s]                                                                     \n",
      "1486it [00:07, 194.26it/s]                                                                        \n"
     ]
    },
    {
     "name": "stdout",
     "output_type": "stream",
     "text": [
      "Epoch: 1, train loss: 0.2111, validloss: 0.7715, recall: 0.7176, mrr: 0.3108, time: 8419.490829467773\n",
      "Save model as Results\\04-April;08.56\\model_00001.pt\n",
      "Start Epoch # 2\n"
     ]
    },
    {
     "name": "stderr",
     "output_type": "stream",
     "text": [
      "738298it [2:17:52, 89.25it/s]                                                                     \n",
      "1486it [00:07, 191.88it/s]                                                                        \n"
     ]
    },
    {
     "name": "stdout",
     "output_type": "stream",
     "text": [
      "Epoch: 2, train loss: 0.2086, validloss: 0.7730, recall: 0.7165, mrr: 0.3118, time: 8280.147675514221\n",
      "Save model as Results\\04-April;08.56\\model_00002.pt\n",
      "Start Epoch # 3\n"
     ]
    },
    {
     "name": "stderr",
     "output_type": "stream",
     "text": [
      "738298it [2:16:41, 90.02it/s]                                                                     \n",
      "1486it [00:07, 195.64it/s]                                                                        \n"
     ]
    },
    {
     "name": "stdout",
     "output_type": "stream",
     "text": [
      "Epoch: 3, train loss: 0.2073, validloss: 0.7756, recall: 0.7184, mrr: 0.3127, time: 8208.776703119278\n",
      "Save model as Results\\04-April;08.56\\model_00003.pt\n",
      "Start Epoch # 4\n"
     ]
    },
    {
     "name": "stderr",
     "output_type": "stream",
     "text": [
      "738298it [2:17:35, 89.43it/s]                                                                     \n",
      "1486it [00:07, 198.32it/s]                                                                        \n"
     ]
    },
    {
     "name": "stdout",
     "output_type": "stream",
     "text": [
      "Epoch: 4, train loss: 0.2065, validloss: 0.7754, recall: 0.7175, mrr: 0.3146, time: 8262.674999952316\n",
      "Save model as Results\\04-April;08.56\\model_00004.pt\n",
      "Start Epoch # 5\n"
     ]
    },
    {
     "name": "stderr",
     "output_type": "stream",
     "text": [
      "738298it [2:19:02, 89.87it/s]                                                                     \n",
      "1486it [00:07, 191.12it/s]                                                                        \n"
     ]
    },
    {
     "name": "stdout",
     "output_type": "stream",
     "text": [
      "Epoch: 5, train loss: 0.2060, validloss: 0.7764, recall: 0.7181, mrr: 0.3160, time: 8350.644610643387\n",
      "Save model as Results\\04-April;08.56\\model_00005.pt\n",
      "Start Epoch # 6\n"
     ]
    },
    {
     "name": "stderr",
     "output_type": "stream",
     "text": [
      "738298it [2:19:23, 88.28it/s]                                                                     \n",
      "1486it [00:07, 194.87it/s]                                                                        \n"
     ]
    },
    {
     "name": "stdout",
     "output_type": "stream",
     "text": [
      "Epoch: 6, train loss: 0.2056, validloss: 0.7776, recall: 0.7179, mrr: 0.3163, time: 8370.891568660736\n",
      "Save model as Results\\04-April;08.56\\model_00006.pt\n",
      "Start Epoch # 7\n"
     ]
    },
    {
     "name": "stderr",
     "output_type": "stream",
     "text": [
      " 98%|██████████████████████████████████████████████████ | 725101/738285 [2:16:08<02:24, 90.94it/s]"
     ]
    }
   ],
   "source": [
    "finalAct = 'elu-0.5'\n",
    "lossType = 'bprmax'\n",
    "optimizerType = 'adagrad'\n",
    "hiddenSize = 100\n",
    "nEpochs = 10\n",
    "batchSize = 32\n",
    "dropoutHidden = 0.0\n",
    "dropoutEmbed = 0.0\n",
    "lr = 0.2\n",
    "trainNSample = 2048\n",
    "sampleAlpha=0.0\n",
    "bpreg = 0.5\n",
    "timeSort = True\n",
    "embeddingDim = 100\n",
    "\n",
    "Tools.fitAndEvalute(trainDataSet, validDataSet, resultDir, inputSize, outputSize, \n",
    "                    lossType, finalAct, nLayers,hiddenSize, nEpochs, batchSize, negative, \n",
    "                    dropoutHidden, dropoutEmbed, lr, momentum,weightDecay,embeddingDim,\n",
    "                    trainNSample, validNSample, sampleAlpha, optimizerType, bpreg, sigma,\n",
    "                    initAsNormal,trainRandomOrder, timeSort, topN, sessionKey, itemKey, timeKey, cuda)"
   ]
  },
  {
   "cell_type": "markdown",
   "metadata": {},
   "source": [
    "# Cross-entropy"
   ]
  },
  {
   "cell_type": "code",
   "execution_count": 7,
   "metadata": {
    "scrolled": false
   },
   "outputs": [
    {
     "name": "stdout",
     "output_type": "stream",
     "text": [
      "Result Folder:Results\\05-April;12.30\n",
      "#### START TRAINING....\n",
      "Start Epoch # 0\n"
     ]
    },
    {
     "name": "stderr",
     "output_type": "stream",
     "text": [
      "738298it [2:45:33, 74.33it/s]                                                                     \n",
      "1486it [00:06, 246.36it/s]                                                                        \n"
     ]
    },
    {
     "name": "stdout",
     "output_type": "stream",
     "text": [
      "Epoch: 0, train loss: 2.5141, validloss: 4.3781, recall: 0.7085, mrr: 0.3065, time: 9939.316438436508\n",
      "Save model as Results\\05-April;12.30\\model_00000.pt\n",
      "Start Epoch # 1\n"
     ]
    },
    {
     "name": "stderr",
     "output_type": "stream",
     "text": [
      "738298it [2:53:23, 70.97it/s]                                                                     \n",
      "1486it [00:06, 245.02it/s]                                                                        \n"
     ]
    },
    {
     "name": "stdout",
     "output_type": "stream",
     "text": [
      "Epoch: 1, train loss: 2.2945, validloss: 4.2954, recall: 0.7132, mrr: 0.3124, time: 10409.762386083603\n",
      "Save model as Results\\05-April;12.30\\model_00001.pt\n",
      "Start Epoch # 2\n"
     ]
    },
    {
     "name": "stderr",
     "output_type": "stream",
     "text": [
      "738298it [2:48:30, 73.02it/s]                                                                     \n",
      "1486it [00:09, 161.53it/s]                                                                        \n"
     ]
    },
    {
     "name": "stdout",
     "output_type": "stream",
     "text": [
      "Epoch: 2, train loss: 2.2598, validloss: 4.2723, recall: 0.7138, mrr: 0.3135, time: 10120.034885406494\n",
      "Save model as Results\\05-April;12.30\\model_00002.pt\n",
      "Start Epoch # 3\n"
     ]
    },
    {
     "name": "stderr",
     "output_type": "stream",
     "text": [
      "738298it [3:29:50, 58.64it/s]                                                                     \n",
      "1486it [00:09, 156.41it/s]                                                                        \n"
     ]
    },
    {
     "name": "stdout",
     "output_type": "stream",
     "text": [
      "Epoch: 3, train loss: 2.2440, validloss: 4.2593, recall: 0.7144, mrr: 0.3146, time: 12600.518286466599\n",
      "Save model as Results\\05-April;12.30\\model_00003.pt\n",
      "Start Epoch # 4\n"
     ]
    },
    {
     "name": "stderr",
     "output_type": "stream",
     "text": [
      "738298it [3:24:47, 77.99it/s]                                                                     \n",
      "1486it [00:06, 245.99it/s]                                                                        \n"
     ]
    },
    {
     "name": "stdout",
     "output_type": "stream",
     "text": [
      "Epoch: 4, train loss: 2.2346, validloss: 4.2544, recall: 0.7144, mrr: 0.3139, time: 12294.045441389084\n",
      "Save model as Results\\05-April;12.30\\model_00004.pt\n",
      "Start Epoch # 5\n"
     ]
    },
    {
     "name": "stderr",
     "output_type": "stream",
     "text": [
      "738298it [2:44:20, 74.87it/s]                                                                     \n",
      "1486it [00:06, 245.30it/s]                                                                        \n"
     ]
    },
    {
     "name": "stdout",
     "output_type": "stream",
     "text": [
      "Epoch: 5, train loss: 2.2281, validloss: 4.2525, recall: 0.7142, mrr: 0.3135, time: 9866.788655042648\n",
      "Save model as Results\\05-April;12.30\\model_00005.pt\n",
      "Start Epoch # 6\n"
     ]
    },
    {
     "name": "stderr",
     "output_type": "stream",
     "text": [
      "738298it [2:44:17, 77.70it/s]                                                                     \n",
      "1486it [00:06, 243.74it/s]                                                                        \n"
     ]
    },
    {
     "name": "stdout",
     "output_type": "stream",
     "text": [
      "Epoch: 6, train loss: 2.2221, validloss: 4.2464, recall: 0.7140, mrr: 0.3150, time: 9863.490469694138\n",
      "Save model as Results\\05-April;12.30\\model_00006.pt\n",
      "Start Epoch # 7\n"
     ]
    },
    {
     "name": "stderr",
     "output_type": "stream",
     "text": [
      "738298it [3:02:48, 67.31it/s]                                                                     \n",
      "1486it [00:09, 155.61it/s]                                                                        \n"
     ]
    },
    {
     "name": "stdout",
     "output_type": "stream",
     "text": [
      "Epoch: 7, train loss: 2.2190, validloss: 4.2454, recall: 0.7132, mrr: 0.3155, time: 10978.590844631195\n",
      "Save model as Results\\05-April;12.30\\model_00007.pt\n",
      "Start Epoch # 8\n"
     ]
    },
    {
     "name": "stderr",
     "output_type": "stream",
     "text": [
      "738298it [3:19:28, 61.69it/s]                                                                     \n",
      "1486it [00:10, 142.95it/s]                                                                        \n"
     ]
    },
    {
     "name": "stdout",
     "output_type": "stream",
     "text": [
      "Epoch: 8, train loss: 2.2152, validloss: 4.2407, recall: 0.7142, mrr: 0.3157, time: 11978.999645471573\n",
      "Save model as Results\\05-April;12.30\\model_00008.pt\n",
      "Start Epoch # 9\n"
     ]
    },
    {
     "name": "stderr",
     "output_type": "stream",
     "text": [
      "738298it [3:42:37, 55.27it/s]                                                                     \n",
      "1486it [00:10, 144.84it/s]                                                                        \n"
     ]
    },
    {
     "name": "stdout",
     "output_type": "stream",
     "text": [
      "Epoch: 9, train loss: 2.2125, validloss: 4.2446, recall: 0.7142, mrr: 0.3158, time: 13367.415631055832\n",
      "Save model as Results\\05-April;12.30\\model_00009.pt\n"
     ]
    }
   ],
   "source": [
    "finalAct = 'softmaxlogit'\n",
    "lossType = 'nll'\n",
    "optimizerType = 'adagrad'\n",
    "hiddenSize = 100\n",
    "nEpochs = 10\n",
    "batchSize = 32\n",
    "dropoutHidden = 0.3\n",
    "dropoutEmbed = 0.0\n",
    "lr = 0.1\n",
    "trainNSample = 2048\n",
    "sampleAlpha=0.0\n",
    "bpreg = 0.0\n",
    "timeSort = True\n",
    "embeddingDim = -1\n",
    "Tools.fitAndEvalute(trainDataSet, validDataSet, resultDir, inputSize, outputSize, \n",
    "                    lossType, finalAct, nLayers,hiddenSize, nEpochs, batchSize, negative, \n",
    "                    dropoutHidden, dropoutEmbed, lr, momentum,weightDecay,embeddingDim,\n",
    "                    trainNSample, validNSample, sampleAlpha, optimizerType, bpreg, sigma,\n",
    "                    initAsNormal,trainRandomOrder, timeSort, topN, sessionKey, itemKey, timeKey, cuda)"
   ]
  },
  {
   "cell_type": "markdown",
   "metadata": {},
   "source": [
    "## Testing"
   ]
  },
  {
   "cell_type": "markdown",
   "metadata": {},
   "source": [
    "### Load Test Data "
   ]
  },
  {
   "cell_type": "code",
   "execution_count": 8,
   "metadata": {
    "scrolled": true
   },
   "outputs": [
    {
     "name": "stdout",
     "output_type": "stream",
     "text": [
      "Loading data from Data/Cleaned/rsc15Train.csv\n",
      "Loading data from Data/Cleaned/rsc15Test.csv\n"
     ]
    }
   ],
   "source": [
    "from Modules import Evaluation, Dataset, Loss\n",
    "import torch\n",
    "import os \n",
    "\n",
    "dataFolder = 'Data/Cleaned/'\n",
    "trainDataFile = 'rsc15Train.csv'\n",
    "testDataFile = 'rsc15Test.csv'\n",
    "\n",
    "sessionKey = 'SessionId';\n",
    "itemKey = 'ItemId';\n",
    "timeKey = 'Time';\n",
    "\n",
    "trainPath = os.path.join(dataFolder, trainDataFile)\n",
    "testPath = os.path.join(dataFolder, testDataFile)\n",
    "\n",
    "# we need train dataset item map \n",
    "trainDataSet = Dataset.Dataset(trainPath, sessionKey=sessionKey, itemKey=itemKey, timeKey=timeKey)\n",
    "testDataSet = Dataset.Dataset(testPath, sessionKey=sessionKey, itemKey=itemKey, timeKey=timeKey,\n",
    "                               itemMap=trainDataSet.itemMap)"
   ]
  },
  {
   "cell_type": "markdown",
   "metadata": {},
   "source": [
    "### Create DataGenerator "
   ]
  },
  {
   "cell_type": "code",
   "execution_count": 9,
   "metadata": {},
   "outputs": [],
   "source": [
    "testDataGenerator = Dataset.DataGenerator(testDataSet, batchSize=32, nSample=0,\n",
    "                                          sampleAlpha=0.0, timeSort=False,\n",
    "                                          trainRandomOrder=False)"
   ]
  },
  {
   "cell_type": "markdown",
   "metadata": {},
   "source": [
    "### Load And Test Pretrain Model "
   ]
  },
  {
   "cell_type": "code",
   "execution_count": 14,
   "metadata": {},
   "outputs": [
    {
     "name": "stderr",
     "output_type": "stream",
     "text": [
      "1771it [00:07, 229.58it/s]                                                                        \n"
     ]
    },
    {
     "name": "stdout",
     "output_type": "stream",
     "text": [
      "Test results: recall = 0.7093, mrr = 0.3042\n"
     ]
    }
   ],
   "source": [
    "modelDirectory = os.path.join('Results', '04-April;08.56')\n",
    "modelName = 'model_00006.pt'\n",
    "modelpath = os.path.join(modelDirectory, modelName)\n",
    "\n",
    "topN = 20\n",
    "\n",
    "try:\n",
    "    checkpoint = torch.load(modelpath)\n",
    "except:\n",
    "    checkpoint = torch.load(modelpath, map_location=lambda storage, loc: storage)\n",
    "\n",
    "model = checkpoint[\"model\"]\n",
    "model.gru.flatten_parameters()\n",
    "evaluation = Evaluation.Evaluation(model, k=topN)\n",
    "_, recall, mrr = evaluation.evalute(testDataGenerator)\n",
    "print(\"Test results: recall = {:.4f}, mrr = {:.4f}\".format(recall, mrr))"
   ]
  }
 ],
 "metadata": {
  "kernelspec": {
   "display_name": "Python 3",
   "language": "python",
   "name": "python3"
  },
  "language_info": {
   "codemirror_mode": {
    "name": "ipython",
    "version": 3
   },
   "file_extension": ".py",
   "mimetype": "text/x-python",
   "name": "python",
   "nbconvert_exporter": "python",
   "pygments_lexer": "ipython3",
   "version": "3.7.3"
  }
 },
 "nbformat": 4,
 "nbformat_minor": 2
}
